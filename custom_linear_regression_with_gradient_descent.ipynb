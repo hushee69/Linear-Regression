{
 "cells": [
  {
   "cell_type": "code",
   "execution_count": 1,
   "metadata": {},
   "outputs": [],
   "source": [
    "import numpy as np;\n",
    "import pandas as pd;\n",
    "\n",
    "import matplotlib.pyplot as plt;"
   ]
  },
  {
   "cell_type": "code",
   "execution_count": 2,
   "metadata": {},
   "outputs": [],
   "source": [
    "# regression\n",
    "# pred = mx + b\n",
    "# m, b are weights\n",
    "# error => mean((y - pred) ** 2)\n",
    "# error_derivative\n",
    "# dE / dpred = 2 * (y - ypred) = (y - ypred) ## 2 is a constant so it can be discarded\n",
    "# dpred / dm = x\n",
    "# dpred / dx = m\n",
    "# dpred / db = 1\n",
    "# dE / dm = dE / dpred * dpred / dm = (y - pred) * x\n",
    "# dE / db = dE / dpred * dpred / db = (y - pred)\n",
    "# dE / dx = dE / dpred * dpred / dx = (y - pred) * m"
   ]
  },
  {
   "cell_type": "code",
   "execution_count": 3,
   "metadata": {},
   "outputs": [],
   "source": [
    "class LinearRegression:\n",
    "    def __init__(self, inputs):\n",
    "        self.x = inputs;\n",
    "        self.m = np.random.randn();\n",
    "        self.b = np.random.randn();\n",
    "        self.grad = {};\n",
    "    \n",
    "    def forward(self):\n",
    "        print(self.x);\n",
    "        self.output = (self.m * self.x) + self.b;\n",
    "        \n",
    "        return self.output;\n",
    "    \n",
    "    def error(self, y):\n",
    "        err = (self.output - y) ** 2;\n",
    "        err = np.mean(err);\n",
    "        \n",
    "        return err;\n",
    "    \n",
    "    def error_derivative(self, y):\n",
    "        dE_dm = 1 * (self.output - y) * self.x;\n",
    "        dE_dm = np.mean(dE_dm);\n",
    "        \n",
    "        dE_db = 1 * (self.output - y);\n",
    "        dE_db = np.mean(dE_db);\n",
    "        \n",
    "        self.grad['db'] = dE_db;\n",
    "        self.grad['dm'] = dE_dm;\n",
    "        \n",
    "        return self.grad;\n",
    "    \n",
    "    def train(self, y, epochs, lr=0.0001, showgraph=False):\n",
    "        for i in range(epochs):\n",
    "            self.output = self.forward();\n",
    "            err = self.error(y);\n",
    "            derv = self.error_derivative(y);\n",
    "            self.m = self.m - (lr * derv['dm']);\n",
    "            self.b = self.b - (lr * derv['db']);\n",
    "            \n",
    "            if showgraph:\n",
    "                plt.plot(self.x, self.output, color='g');\n",
    "        \n",
    "        return err;"
   ]
  },
  {
   "cell_type": "code",
   "execution_count": 4,
   "metadata": {},
   "outputs": [],
   "source": [
    "data = pd.read_csv('data.csv', header=None, names=['X', 'y']);"
   ]
  },
  {
   "cell_type": "code",
   "execution_count": 5,
   "metadata": {},
   "outputs": [
    {
     "name": "stdout",
     "output_type": "stream",
     "text": [
      "-7.37891066403305e+77 -1.4503024083346106e+76\n"
     ]
    }
   ],
   "source": [
    "X = data['X'].values;\n",
    "y = data['y'].values;\n",
    "\n",
    "m = 0;\n",
    "c = 0;\n",
    "\n",
    "L = 0.001;\n",
    "epochs = 1000;\n",
    "\n",
    "n = float(len(X));\n",
    "\n",
    "for i in range(len(X)):\n",
    "    y_pred = m * X + c;\n",
    "    d_m = (-2 / n) * np.sum(X * (y_pred - y));\n",
    "    d_c = (-2 / n) * np.sum(y_pred - y);\n",
    "    \n",
    "    m = m - L * d_m;\n",
    "    c = c - L * d_c;\n",
    "\n",
    "print(m, c);"
   ]
  },
  {
   "cell_type": "code",
   "execution_count": 10,
   "metadata": {},
   "outputs": [],
   "source": [
    "lreg = LinearRegression(inputs=X);\n",
    "\n",
    "#lreg.train(y, epochs=20, showgraph=True);\n",
    "#lreg.error(y)"
   ]
  },
  {
   "cell_type": "code",
   "execution_count": 11,
   "metadata": {},
   "outputs": [
    {
     "name": "stdout",
     "output_type": "stream",
     "text": [
      "[32.50234527 53.42680403 61.53035803 47.47563963 59.81320787 55.14218841\n",
      " 52.21179669 39.29956669 48.10504169 52.55001444 45.41973014 54.35163488\n",
      " 44.1640495  58.16847072 56.72720806 48.95588857 44.68719623 60.29732685\n",
      " 45.61864377 38.81681754 66.18981661 65.41605175 47.48120861 41.57564262\n",
      " 51.84518691 59.37082201 57.31000344 63.61556125 46.73761941 50.55676015\n",
      " 52.22399609 35.56783005 42.43647694 58.16454011 57.50444762 45.44053073\n",
      " 61.89622268 33.09383174 36.43600951 37.67565486 44.55560838 43.31828263\n",
      " 50.07314563 43.87061265 62.99748075 32.66904376 40.16689901 53.57507753\n",
      " 33.86421497 64.70713867 38.11982403 44.50253806 40.59953838 41.72067636\n",
      " 51.08863468 55.0780959  41.37772653 62.49469743 49.20388754 41.10268519\n",
      " 41.18201611 50.18638949 52.37844622 50.13548549 33.64470601 39.55790122\n",
      " 56.13038882 57.36205213 60.26921439 35.67809389 31.588117   53.66093226\n",
      " 46.68222865 43.10782022 70.34607562 44.49285588 57.5045333  36.93007661\n",
      " 55.80573336 38.95476907 56.9012147  56.86890066 34.3331247  59.04974121\n",
      " 57.78822399 54.28232871 51.0887199  50.28283635 44.21174175 38.00548801\n",
      " 32.94047994 53.69163957 68.76573427 46.2309665  68.31936082 50.03017434\n",
      " 49.23976534 50.03957594 48.14985889 25.12848465]\n"
     ]
    }
   ],
   "source": [
    "y_pred = lreg.forward();"
   ]
  },
  {
   "cell_type": "code",
   "execution_count": 8,
   "metadata": {},
   "outputs": [],
   "source": [
    "import matplotlib.pyplot as plt;"
   ]
  },
  {
   "cell_type": "code",
   "execution_count": 30,
   "metadata": {},
   "outputs": [
    {
     "data": {
      "image/png": "[encoded data removed]",
      "text/plain": [
       "<Figure size 432x288 with 1 Axes>"
      ]
     },
     "metadata": {
      "needs_background": "light"
     },
     "output_type": "display_data"
    }
   ],
   "source": [
    "plt.scatter(X, y, color='r');\n",
    "plt.plot(X, y_pred, color='b');\n",
    "\n",
    "plt.show();"
   ]
  },
  {
   "cell_type": "code",
   "execution_count": null,
   "metadata": {},
   "outputs": [],
   "source": []
  },
  {
   "cell_type": "code",
   "execution_count": null,
   "metadata": {},
   "outputs": [],
   "source": []
  },
  {
   "cell_type": "code",
   "execution_count": null,
   "metadata": {},
   "outputs": [],
   "source": []
  }
 ],
 "metadata": {
  "kernelspec": {
   "display_name": "Python 3",
   "language": "python",
   "name": "python3"
  },
  "language_info": {
   "codemirror_mode": {
    "name": "ipython",
    "version": 3
   },
   "file_extension": ".py",
   "mimetype": "text/x-python",
   "name": "python",
   "nbconvert_exporter": "python",
   "pygments_lexer": "ipython3",
   "version": "3.7.6"
  }
 },
 "nbformat": 4,
 "nbformat_minor": 4
}
